{
  "cells": [
    {
      "cell_type": "code",
      "execution_count": null,
      "metadata": {
        "id": "MsSkVDbHczTI"
      },
      "outputs": [],
      "source": [
        "###########################################################################################################################################################\n",
        "# Citations:\n",
        "# 1) Divyanshupy (2019). MobileNet-Object-Detection [Repository]. GitHub. https://github.com/Divyanshupy/MobileNet-Object-Detection\n",
        "###########################################################################################################################################################"
      ]
    },
    {
      "cell_type": "code",
      "source": [
        "############################################\n",
        "# Import the relevant libraries and set the working directory appropriately\n",
        "############################################"
      ],
      "metadata": {
        "id": "DyQOYDZKMjXH"
      },
      "execution_count": null,
      "outputs": []
    },
    {
      "cell_type": "code",
      "execution_count": null,
      "metadata": {
        "colab": {
          "base_uri": "https://localhost:8080/"
        },
        "id": "h46N95cpc0cI",
        "outputId": "2701a8d3-438a-40b1-c3b2-bedccd98de5c"
      },
      "outputs": [
        {
          "output_type": "stream",
          "name": "stdout",
          "text": [
            "Drive already mounted at /content/gdrive; to attempt to forcibly remount, call drive.mount(\"/content/gdrive\", force_remount=True).\n",
            "fatal: destination path 'MobileNet-Object-Detection' already exists and is not an empty directory.\n"
          ]
        }
      ],
      "source": [
        "from PIL import Image\n",
        "import numpy as np\n",
        "import os\n",
        "import numpy as np\n",
        "import pandas as pd\n",
        "from natsort import natsorted\n",
        "import re\n",
        "import os\n",
        "import os\n",
        "import random\n",
        "import pandas as pd\n",
        "import torch\n",
        "import numpy as np\n",
        "import random\n",
        "# from skimage import io\n",
        "import skimage\n",
        "from torch.utils.data import Dataset, DataLoader\n",
        "from torchvision import transforms, utils\n",
        "import torch.nn as nn\n",
        "import torch.nn.functional as F\n",
        "import os\n",
        "import datetime\n",
        "import sys\n",
        "import torch as t\n",
        "import torch.cuda as cuda\n",
        "import torch.optim as optimizer\n",
        "import torch.nn as nn\n",
        "import torch.nn.functional as F\n",
        "from torch.utils.data import DataLoader\n",
        "import torchvision.transforms as transf\n",
        "import numpy as np\n",
        "import matplotlib.pyplot as plt\n",
        "from skimage import io, transform\n",
        "from scipy import io\n",
        "from torchsummary import summary\n",
        "import csv\n",
        "import os\n",
        "from google.colab import drive\n",
        "drive.mount('/content/gdrive')\n",
        "\n",
        "# Set the scenario number\n",
        "scenario_numx = 5\n",
        "scenario_num = scenario_numx\n",
        "\n",
        "all_cars = True\n",
        "\n",
        "# Set the working directory appropriately in this variable\n",
        "directory = '/content/gdrive/MyDrive/Dataset/scenario' + str(scenario_numx)\n",
        "directory = directory + '/'\n",
        "\n",
        "! git clone https://github.com/Divyanshupy/MobileNet-Object-Detection.git"
      ]
    },
    {
      "cell_type": "code",
      "execution_count": null,
      "metadata": {
        "id": "se92Rl5C_WD1"
      },
      "outputs": [],
      "source": [
        "pip install torchinfo"
      ]
    },
    {
      "cell_type": "code",
      "execution_count": null,
      "metadata": {
        "id": "yt8tvCz9I39i"
      },
      "outputs": [],
      "source": [
        "directory = '/content/gdrive/MyDrive/Dataset/scenario' + str(scenario_numx) + '/resources'\n",
        "directory = directory + '/'"
      ]
    },
    {
      "cell_type": "code",
      "source": [
        "########################################################################################\n",
        "# Intialize the filnames of the images in a list\n",
        "########################################################################################"
      ],
      "metadata": {
        "id": "OfB2u59WNLJo"
      },
      "execution_count": null,
      "outputs": []
    },
    {
      "cell_type": "code",
      "execution_count": null,
      "metadata": {
        "id": "itr3Ajg5I4m4"
      },
      "outputs": [],
      "source": [
        "import os\n",
        "import glob\n",
        "\n",
        "\n",
        "path = directory + 'camera_data'\n",
        "filenames = os.listdir(path)\n",
        "original_list = [os.path.join(path, filename) for filename in filenames]\n",
        "full_path_filenames = natsorted(original_list)\n",
        "\n",
        "\n",
        "\n",
        "files = os.listdir(path)\n",
        "files = natsorted(files)\n"
      ]
    },
    {
      "cell_type": "code",
      "execution_count": null,
      "metadata": {
        "id": "E9-G32zm4Vcz"
      },
      "outputs": [],
      "source": [
        "########################################################################################\n",
        "# Generate bounding boxes of cars and store the bounding box coordinates in a dataframe\n",
        "# Divyanshupy (2019). MobileNet-Object-Detection [Repository]. GitHub. https://github.com/Divyanshupy/MobileNet-Object-Detection\n",
        "########################################################################################\n",
        "import numpy as np\n",
        "import argparse\n",
        "import cv2\n",
        "\n",
        "import matplotlib.pyplot as plt\n",
        "import pandas as pd\n",
        "\n",
        "\n",
        "\n",
        "\n",
        "column_names = ['image name','label','startX', 'startY', 'endX', 'endY']\n",
        "df = pd.DataFrame(columns=column_names)\n",
        "for _,j in enumerate(full_path_filenames):\n",
        "  args = my_dict = {\"image\": j, \"prototxt\": \"/content/MobileNet-Object-Detection/MobileNetSSD_deploy.prototxt.txt\" , \"model\":\"/content/MobileNet-Object-Detection/MobileNetSSD_deploy.caffemodel\", \"confidence\":0.40 }\n",
        "  CLASSES = [\"background\", \"aeroplane\", \"bicycle\", \"bird\", \"boat\",\n",
        "\t\"bottle\", \"bus\", \"car\", \"cat\", \"chair\", \"cow\", \"diningtable\",\n",
        "\t\"dog\", \"horse\", \"motorbike\", \"person\", \"pottedplant\", \"sheep\",\n",
        "\t\"sofa\", \"train\", \"tvmonitor\"]\n",
        "  COLORS = np.random.uniform(0, 255, size=(len(CLASSES), 3))\n",
        "\n",
        "\n",
        "  net = cv2.dnn.readNetFromCaffe(args[\"prototxt\"], args[\"model\"])\n",
        "\n",
        "  image = cv2.imread(args[\"image\"])\n",
        "  image = cv2.cvtColor(image, cv2.COLOR_BGR2RGB)\n",
        "\n",
        "  (h, w) = image.shape[:2]\n",
        "  blob = cv2.dnn.blobFromImage(cv2.resize(image, (h, w)), 0.007843, (h, w), 127.5)\n",
        "\n",
        "\n",
        "  net.setInput(blob)\n",
        "  detections = net.forward()\n",
        "\n",
        "\n",
        "  for i in np.arange(0, detections.shape[2]):\n",
        "\n",
        "    confidence = detections[0, 0, i, 2]\n",
        "\n",
        "    if confidence > args[\"confidence\"]:\n",
        "      idx = int(detections[0, 0, i, 1])\n",
        "      box = detections[0, 0, i, 3:7] * np.array([w, h, w, h])\n",
        "      (startX, startY, endX, endY) = box.astype(\"int\")\n",
        "\n",
        "      # display the prediction\n",
        "      label = \"{}: {:.2f}%\".format(CLASSES[idx], confidence * 100)\n",
        "      # print(\"[INFO] {}\".format(label))\n",
        "      cv2.rectangle(image, (startX, startY), (endX, endY),\n",
        "        COLORS[idx], 2)\n",
        "      y = startY - 15 if startY - 15 > 15 else startY + 15\n",
        "      cv2.putText(image, label, (startX, y),\n",
        "        cv2.FONT_HERSHEY_SIMPLEX, 0.5, COLORS[idx], 2)\n",
        "\n",
        "      if startX<0:\n",
        "        startX = 0\n",
        "\n",
        "      if startY<0:\n",
        "        staryY =0\n",
        "\n",
        "      if endX >960:\n",
        "        endX=960\n",
        "\n",
        "      if endY>540:\n",
        "        endY=540  \n",
        "\n",
        "      # print(label)\n",
        "      if label[0:3] =='car':\n",
        "        new_row = pd.DataFrame([[ files[_],label,startX, startY, endX, endY]], columns=['image name','label','startX', 'startY', 'endX', 'endY'])\n",
        "        df = df.append(new_row, ignore_index=True)\n",
        "\n",
        "  # plt.imshow(image)\n",
        "  # plt.show()\n",
        "  cv2.waitKey(1)"
      ]
    },
    {
      "cell_type": "code",
      "source": [
        "############################################\n",
        "# Save the pandas dataframe as a csv file\n",
        "############################################"
      ],
      "metadata": {
        "id": "s93Tp1apNg8M"
      },
      "execution_count": null,
      "outputs": []
    },
    {
      "cell_type": "code",
      "execution_count": null,
      "metadata": {
        "id": "zCKsaSPEOEhN"
      },
      "outputs": [],
      "source": [
        "df2= df\n",
        "column = 'label'\n",
        "substrings = ['car', 'bus']\n",
        "df2 = df2.loc[df2[column].str.contains('|'.join(substrings))]\n",
        "df2.to_csv('scenario5_bbox_mobilenet.csv', index=False, sep='\\t', encoding='utf-16')"
      ]
    }
  ],
  "metadata": {
    "colab": {
      "provenance": []
    },
    "gpuClass": "standard",
    "kernelspec": {
      "display_name": "Python 3",
      "name": "python3"
    },
    "language_info": {
      "name": "python"
    }
  },
  "nbformat": 4,
  "nbformat_minor": 0
}